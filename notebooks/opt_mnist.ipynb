{
 "nbformat": 4,
 "nbformat_minor": 0,
 "metadata": {
  "accelerator": "GPU",
  "colab": {
   "name": "pretrain_opt_mnist.ipynb",
   "provenance": [],
   "collapsed_sections": [],
   "machine_shape": "hm",
   "authorship_tag": "ABX9TyMeWoIZVSElEjT9Pus2Zcaf"
  },
  "kernelspec": {
   "display_name": "Python 3",
   "name": "python3"
  },
  "language_info": {
   "name": "python"
  }
 },
 "cells": [
  {
   "cell_type": "code",
   "metadata": {
    "id": "BDGdAyoJgmP-"
   },
   "source": [
    "from google.colab import drive\n",
    "drive.mount('/content/gdrive')"
   ],
   "execution_count": null,
   "outputs": []
  },
  {
   "cell_type": "code",
   "metadata": {
    "id": "DU4dVPciRGrY"
   },
   "source": [
    "# Install compatible package versions\n",
    "!pip install pytorch_lightning==1.2.6 ruamel.yaml gpflow==2.1.3 emcee pyDOE2"
   ],
   "execution_count": null,
   "outputs": []
  },
  {
   "cell_type": "code",
   "metadata": {
    "id": "V_zU59NKhD1c"
   },
   "source": [
    "import os\n",
    "os.chdir(\"gdrive/My Drive/MA/lso-stability\")"
   ],
   "execution_count": null,
   "outputs": []
  },
  {
   "cell_type": "code",
   "metadata": {
    "id": "cP8Ro5Dl0Qj7"
   },
   "source": [
    "!python -m pip install -e .\n"
   ],
   "execution_count": null,
   "outputs": []
  },
  {
   "cell_type": "code",
   "metadata": {
    "id": "7iEQEwLCsnuN"
   },
   "source": [
    "# apply weighted retraining on MNIST using ''perfect'' optimizer\n",
    "!bash scripts/opt/mnist_bin-experiments.sh"
   ],
   "execution_count": null,
   "outputs": []
  },
  {
   "cell_type": "code",
   "metadata": {
    "id": "pZXr0QBA9Lu8"
   },
   "source": [
    "# apply weighted retraining on MNIST using local optimization\n",
    "!bash scripts/opt/opt-mnist_bin-complex.sh"
   ],
   "execution_count": null,
   "outputs": []
  }
 ]
}
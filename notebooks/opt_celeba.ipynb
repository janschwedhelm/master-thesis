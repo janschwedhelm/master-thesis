{
 "nbformat": 4,
 "nbformat_minor": 0,
 "metadata": {
  "accelerator": "GPU",
  "colab": {
   "name": "opt_celeba.ipynb",
   "provenance": [],
   "collapsed_sections": [],
   "machine_shape": "hm",
   "authorship_tag": "ABX9TyO0A++Hoiai7j30KMPuJGt1"
  },
  "kernelspec": {
   "display_name": "Python 3",
   "name": "python3"
  },
  "language_info": {
   "name": "python"
  }
 },
 "cells": [
  {
   "cell_type": "code",
   "metadata": {
    "id": "BDGdAyoJgmP-"
   },
   "source": [
    "from google.colab import drive\n",
    "drive.mount('/content/gdrive')"
   ],
   "execution_count": null,
   "outputs": []
  },
  {
   "cell_type": "code",
   "metadata": {
    "id": "DU4dVPciRGrY"
   },
   "source": [
    "# Install compatible package versions\n",
    "!pip install pytorch_lightning==1.2.6 ruamel.yaml gpflow==2.1.3 emcee pyDOE2 pyyaml==5.3.1"
   ],
   "execution_count": null,
   "outputs": []
  },
  {
   "cell_type": "code",
   "metadata": {
    "id": "E160QWJJhMAy"
   },
   "source": [
    "import os\n",
    "os.chdir(\"gdrive/My Drive/master-thesis\")"
   ],
   "execution_count": null,
   "outputs": []
  },
  {
   "cell_type": "code",
   "metadata": {
    "id": "cP8Ro5Dl0Qj7"
   },
   "source": [
    "!python -m pip install -e ."
   ],
   "execution_count": null,
   "outputs": []
  },
  {
   "cell_type": "code",
   "metadata": {
    "id": "8A1qB5yG0r9K"
   },
   "source": [
    "# Installations needed for VQ-VAE experiments\n",
    "os.chdir(\"entmoot\")\n",
    "!python setup.py install\n",
    "os.chdir(\"..\")\n",
    "!pip uninstall lightgbm\n",
    "os.chdir(\"LightGBM/python-package\")\n",
    "!python setup.py install --precompile\n",
    "os.chdir(\"../..\")"
   ],
   "execution_count": null,
   "outputs": []
  },
  {
   "cell_type": "code",
   "metadata": {
    "id": "yskKkPNkCW6B"
   },
   "source": [
    "# Academic Gurobi license needs to be uploaded under /opt/gurobi for VQ-VAE experiments to work properly\n",
    "!sudo python -m pip install gurobipy==9.1.2"
   ],
   "execution_count": null,
   "outputs": []
  },
  {
   "cell_type": "code",
   "metadata": {
    "id": "asLVStvDxZWv"
   },
   "source": [
    "# Unzip CelebA data to local VM disk\n",
    "!unzip \"/content/gdrive/My Drive/master-thesis/data/celeba-dialog/data_tensors_64.zip\" -d \"/content\""
   ],
   "execution_count": null,
   "outputs": []
  },
  {
   "cell_type": "code",
   "metadata": {
    "id": "fhNRRnaG8iX4"
   },
   "source": [
    "# apply weighted retraining on CelebA dataset using VAEs\n",
    "!bash scripts/opt/opt-celeba-vae.sh"
   ],
   "execution_count": null,
   "outputs": []
  },
  {
   "cell_type": "code",
   "metadata": {
    "colab": {
     "background_save": true
    },
    "id": "Bd-vRnJ-jfGO"
   },
   "source": [
    "# apply weighted retraining on CelebA dataset using VQ-VAEs\n",
    "!bash scripts/opt/opt-celeba-vqvae.sh"
   ],
   "execution_count": null,
   "outputs": []
  },
  {
   "cell_type": "code",
   "metadata": {
    "id": "8rd0JUc2RcOq"
   },
   "source": [
    "# apply weighted retraining on CelebA dataset using SN-GANs\n",
    "!bash scripts/opt/opt-celeba-sngan.sh"
   ],
   "execution_count": null,
   "outputs": []
  }
 ]
}
